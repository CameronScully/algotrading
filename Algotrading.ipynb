{
 "cells": [
  {
   "cell_type": "markdown",
   "metadata": {},
   "source": [
    "# Machine learning headline analysis to predict daily stock movement\n",
    "## Goal\n",
    "When do we buy and sell stocks for profit\n",
    "\n",
    "## Stratergy\n",
    "1. Every day news headlines are read in and stored\n",
    "2. at the end of the day for each stock it is predicted whether it will close higher than it opened tomorrow\n",
    "3. sell stocks that will close lower and buy stocks that will close higher\n",
    "\n",
    "## Approaches\n",
    "1. Bag-of-words machine learning model trained on historical data\n",
    "2. Spark clustering/continues learning trained on historical data\n",
    "3. mix of sources (reddit, twitter, abc)\n",
    "4. combination of headlines and traditional algorithms\n",
    "\n",
    "## Finding accurate stocks\n",
    "1. for each ticker in asx.csv extract label and attach to headlines\n",
    "2. train model and evaluate"
   ]
  },
  {
   "cell_type": "markdown",
   "metadata": {},
   "source": [
    "## Data Exploration"
   ]
  },
  {
   "cell_type": "code",
   "execution_count": 1,
   "metadata": {},
   "outputs": [],
   "source": [
    "import pandas as pd\n",
    "\n",
    "#historical abc new headlines\n",
    "abc = pd.read_csv('abcnews-date-text.csv')"
   ]
  },
  {
   "cell_type": "code",
   "execution_count": 2,
   "metadata": {},
   "outputs": [
    {
     "name": "stdout",
     "output_type": "stream",
     "text": [
      "(1186018, 2)\n",
      "<bound method NDFrame.head of          publish_date                                      headline_text\n",
      "0            20030219  aba decides against community broadcasting lic...\n",
      "1            20030219     act fire witnesses must be aware of defamation\n",
      "2            20030219     a g calls for infrastructure protection summit\n",
      "3            20030219           air nz staff in aust strike for pay rise\n",
      "4            20030219      air nz strike to affect australian travellers\n",
      "...               ...                                                ...\n",
      "1186013      20191231  vision of flames approaching corryong in victoria\n",
      "1186014      20191231  wa police and government backflip on drug amne...\n",
      "1186015      20191231  we have fears for their safety: victorian premier\n",
      "1186016      20191231                              when do the 20s start\n",
      "1186017      20191231  yarraville shooting woman dead man critically ...\n",
      "\n",
      "[1186018 rows x 2 columns]>\n"
     ]
    }
   ],
   "source": [
    "print(abc.shape)\n",
    "print(abc.head)"
   ]
  },
  {
   "cell_type": "code",
   "execution_count": 41,
   "metadata": {},
   "outputs": [],
   "source": [
    "#historical axjo data\n",
    "stocks = pd.read_csv('1997-2017.csv')\n",
    "stocks = stocks.dropna(how='any',axis=0) "
   ]
  },
  {
   "cell_type": "code",
   "execution_count": 42,
   "metadata": {},
   "outputs": [
    {
     "name": "stdout",
     "output_type": "stream",
     "text": [
      "(681540, 7)\n",
      "<bound method NDFrame.head of        Ticker         Day   Open   High     Low  Close   Volume\n",
      "0         AAD   2/01/1997   0.74   0.76   0.740   0.75    10722\n",
      "1         ABC   2/01/1997   1.70   1.71   1.700   1.70    70000\n",
      "2         AGL   2/01/1997   7.02   7.20   7.000   7.20   161097\n",
      "3         ALL   2/01/1997   3.20   3.27   3.200   3.25    29600\n",
      "4         AMC   2/01/1997   7.96   8.08   7.950   8.06   268106\n",
      "...       ...         ...    ...    ...     ...    ...      ...\n",
      "681535    WOW  29/12/2017  27.42  27.42  27.255  27.30  1208302\n",
      "681536    WPL  29/12/2017  33.08  33.23  32.960  33.08  1629747\n",
      "681537    WSA  29/12/2017   3.25   3.30   3.240   3.24  1455704\n",
      "681538    WTC  29/12/2017  14.25  14.25  14.040  14.15   361716\n",
      "681539    XRO  29/12/2017  28.19  28.83  28.010  28.66    68400\n",
      "\n",
      "[681540 rows x 7 columns]>\n"
     ]
    }
   ],
   "source": [
    "print(stocks.shape)\n",
    "print(stocks.head)"
   ]
  },
  {
   "cell_type": "code",
   "execution_count": 51,
   "metadata": {},
   "outputs": [
    {
     "data": {
      "text/plain": [
       "225"
      ]
     },
     "execution_count": 51,
     "metadata": {},
     "output_type": "execute_result"
    }
   ],
   "source": [
    "stocks[\"Ticker\"].nunique()"
   ]
  },
  {
   "cell_type": "code",
   "execution_count": 31,
   "metadata": {},
   "outputs": [],
   "source": [
    "import numpy as np\n",
    "stocks['Label'] = (stocks['Close'] < stocks.shift(periods=-1)['Open']).astype(int)\n",
    "stocks.drop(stocks.tail(1).index,inplace=True)"
   ]
  },
  {
   "cell_type": "code",
   "execution_count": 32,
   "metadata": {},
   "outputs": [
    {
     "data": {
      "text/plain": [
       "<AxesSubplot:>"
      ]
     },
     "execution_count": 32,
     "metadata": {},
     "output_type": "execute_result"
    },
    {
     "data": {
      "image/png": "[encoded data removed]",
      "text/plain": [
       "<Figure size 432x288 with 1 Axes>"
      ]
     },
     "metadata": {
      "needs_background": "light"
     },
     "output_type": "display_data"
    }
   ],
   "source": [
    "import matplotlib.pyplot as plt\n",
    "stocks[\"Label\"].value_counts().plot(kind='bar')"
   ]
  },
  {
   "cell_type": "markdown",
   "metadata": {},
   "source": [
    "## Data Preprocessing"
   ]
  },
  {
   "cell_type": "code",
   "execution_count": 52,
   "metadata": {},
   "outputs": [
    {
     "data": {
      "text/plain": [
       "<pandas.core.groupby.generic.DataFrameGroupBy object at 0x000001D911B58E80>"
      ]
     },
     "execution_count": 52,
     "metadata": {},
     "output_type": "execute_result"
    }
   ],
   "source": [
    "stocks.groupby(\"Ticker\")"
   ]
  },
  {
   "cell_type": "code",
   "execution_count": 58,
   "metadata": {},
   "outputs": [
    {
     "name": "stdout",
     "output_type": "stream",
     "text": [
      "(697, 7)\n",
      "(4125, 7)\n",
      "(2387, 7)\n",
      "(5299, 7)\n",
      "(3774, 7)\n",
      "(1030, 7)\n",
      "(3857, 7)\n",
      "(3253, 7)\n",
      "(1233, 7)\n",
      "(891, 7)\n",
      "(3768, 7)\n",
      "(5279, 7)\n",
      "(1577, 7)\n",
      "(3478, 7)\n",
      "(5300, 7)\n",
      "(4937, 7)\n",
      "(3956, 7)\n",
      "(5301, 7)\n",
      "(2362, 7)\n",
      "(4421, 7)\n",
      "(5127, 7)\n",
      "(794, 7)\n",
      "(135, 7)\n",
      "(1746, 7)\n",
      "(794, 7)\n",
      "(1423, 7)\n",
      "(4780, 7)\n",
      "(926, 7)\n",
      "(4849, 7)\n",
      "(3798, 7)\n",
      "(1282, 7)\n",
      "(834, 7)\n",
      "(931, 7)\n",
      "(560, 7)\n",
      "(5299, 7)\n",
      "(1608, 7)\n",
      "(5302, 7)\n",
      "(5179, 7)\n",
      "(4886, 7)\n",
      "(4500, 7)\n",
      "(933, 7)\n",
      "(4353, 7)\n",
      "(5250, 7)\n",
      "(2215, 7)\n",
      "(3886, 7)\n",
      "(4863, 7)\n",
      "(2798, 7)\n",
      "(4532, 7)\n",
      "(1074, 7)\n",
      "(5296, 7)\n",
      "(5288, 7)\n",
      "(4126, 7)\n",
      "(1406, 7)\n",
      "(3529, 7)\n",
      "(2898, 7)\n",
      "(1588, 7)\n",
      "(1545, 7)\n",
      "(5295, 7)\n",
      "(5288, 7)\n",
      "(1966, 7)\n",
      "(5290, 7)\n",
      "(5288, 7)\n",
      "(1819, 7)\n",
      "(5304, 7)\n",
      "(2545, 7)\n",
      "(484, 7)\n",
      "(30, 7)\n",
      "(1891, 7)\n",
      "(3135, 7)\n",
      "(4165, 7)\n",
      "(2480, 7)\n",
      "(684, 7)\n",
      "(774, 7)\n",
      "(1545, 7)\n",
      "(4078, 7)\n",
      "(5263, 7)\n",
      "(3608, 7)\n",
      "(3793, 7)\n",
      "(2786, 7)\n",
      "(1844, 7)\n",
      "(1192, 7)\n",
      "(2627, 7)\n",
      "(4889, 7)\n",
      "(2066, 7)\n",
      "(5273, 7)\n",
      "(255, 7)\n",
      "(5300, 7)\n",
      "(1802, 7)\n",
      "(2394, 7)\n",
      "(2486, 7)\n",
      "(3803, 7)\n",
      "(870, 7)\n",
      "(5268, 7)\n",
      "(4022, 7)\n",
      "(2574, 7)\n",
      "(2444, 7)\n",
      "(3549, 7)\n",
      "(4011, 7)\n",
      "(4689, 7)\n",
      "(301, 7)\n",
      "(805, 7)\n",
      "(2296, 7)\n",
      "(3626, 7)\n",
      "(4072, 7)\n",
      "(4149, 7)\n",
      "(906, 7)\n",
      "(1146, 7)\n",
      "(3550, 7)\n",
      "(2580, 7)\n",
      "(3579, 7)\n",
      "(937, 7)\n",
      "(142, 7)\n",
      "(4091, 7)\n",
      "(3351, 7)\n",
      "(374, 7)\n",
      "(190, 7)\n",
      "(5287, 7)\n",
      "(548, 7)\n",
      "(2746, 7)\n",
      "(4656, 7)\n",
      "(2875, 7)\n",
      "(3272, 7)\n",
      "(4821, 7)\n",
      "(2027, 7)\n",
      "(1158, 7)\n",
      "(2004, 7)\n",
      "(2553, 7)\n",
      "(3220, 7)\n",
      "(3211, 7)\n",
      "(3068, 7)\n",
      "(5296, 7)\n",
      "(2628, 7)\n",
      "(5297, 7)\n",
      "(2553, 7)\n",
      "(3604, 7)\n",
      "(2564, 7)\n",
      "(1014, 7)\n",
      "(2879, 7)\n",
      "(4506, 7)\n",
      "(2540, 7)\n",
      "(877, 7)\n",
      "(3274, 7)\n",
      "(1774, 7)\n",
      "(1068, 7)\n",
      "(2661, 7)\n",
      "(2095, 7)\n",
      "(1020, 7)\n",
      "(2457, 7)\n",
      "(4480, 7)\n",
      "(5023, 7)\n",
      "(5299, 7)\n",
      "(2321, 7)\n",
      "(1019, 7)\n",
      "(3625, 7)\n",
      "(3869, 7)\n",
      "(5288, 7)\n",
      "(4798, 7)\n",
      "(2682, 7)\n",
      "(5289, 7)\n",
      "(5300, 7)\n",
      "(1904, 7)\n",
      "(4268, 7)\n",
      "(1400, 7)\n",
      "(962, 7)\n",
      "(2835, 7)\n",
      "(5100, 7)\n",
      "(5208, 7)\n",
      "(4567, 7)\n",
      "(3304, 7)\n",
      "(5227, 7)\n",
      "(425, 7)\n",
      "(666, 7)\n",
      "(3425, 7)\n",
      "(5202, 7)\n",
      "(1114, 7)\n",
      "(2325, 7)\n",
      "(831, 7)\n",
      "(1115, 7)\n",
      "(3208, 7)\n",
      "(3147, 7)\n",
      "(1069, 7)\n",
      "(3075, 7)\n",
      "(5298, 7)\n",
      "(1269, 7)\n",
      "(5263, 7)\n",
      "(4907, 7)\n",
      "(3794, 7)\n",
      "(2724, 7)\n",
      "(2021, 7)\n",
      "(3842, 7)\n",
      "(5230, 7)\n",
      "(1513, 7)\n",
      "(4306, 7)\n",
      "(5296, 7)\n",
      "(4113, 7)\n",
      "(3397, 7)\n",
      "(4152, 7)\n",
      "(1941, 7)\n",
      "(2017, 7)\n",
      "(1858, 7)\n",
      "(2005, 7)\n",
      "(5294, 7)\n",
      "(5268, 7)\n",
      "(3534, 7)\n",
      "(4841, 7)\n",
      "(1526, 7)\n",
      "(4526, 7)\n",
      "(2034, 7)\n",
      "(3420, 7)\n",
      "(1679, 7)\n",
      "(547, 7)\n",
      "(1859, 7)\n",
      "(5251, 7)\n",
      "(1156, 7)\n",
      "(5298, 7)\n",
      "(5268, 7)\n",
      "(892, 7)\n",
      "(2672, 7)\n",
      "(90, 7)\n",
      "(3795, 7)\n",
      "(5302, 7)\n",
      "(5299, 7)\n",
      "(4160, 7)\n",
      "(438, 7)\n",
      "(1300, 7)\n"
     ]
    }
   ],
   "source": [
    "for ticker, stock in stocks.groupby(\"Ticker\"):\n",
    "    print(stock.shape)"
   ]
  },
  {
   "cell_type": "code",
   "execution_count": 7,
   "metadata": {},
   "outputs": [],
   "source": [
    "#convert dates to match\n",
    "stocks['Date'] = pd.to_datetime(stocks['Date'])\n",
    "abc['publish_date'] = pd.to_datetime(abc['publish_date'], format='%Y%m%d')\n",
    "\n",
    "#trim dataframes to the same time period\n",
    "end_date = stocks['Date'].max()\n",
    "start_date = stocks['Date'].min()\n",
    "\n",
    "if abc['publish_date'].max() < end_date:\n",
    "    end_date = abc['publish_date'].max()\n",
    "    \n",
    "if abc['publish_date'].min() > start_date:\n",
    "    start_date = abc['publish_date'].min()\n",
    "\n",
    "abc_mask = ((abc['publish_date'] > start_date) & (abc['publish_date'] <= end_date))\n",
    "    \n",
    "axjo_mask = ((axjo['Date'] > start_date) & (axjo['Date'] <= end_date))\n",
    "    \n",
    "abc = abc.loc[abc_mask]\n",
    "\n",
    "axjo = axjo.loc[axjo_mask]\n",
    "\n",
    "abc.rename(columns = {'publish_date':'Date'}, inplace=True)"
   ]
  },
  {
   "cell_type": "code",
   "execution_count": 10,
   "metadata": {},
   "outputs": [
    {
     "data": {
      "text/plain": [
       "Date\n",
       "2003-02-20    15 dead in rebel bombing raid philippines army...\n",
       "2003-02-21    accc too timid in petrol price investigations ...\n",
       "2003-02-22    86 confirmed dead after us nightclub fire act ...\n",
       "2003-02-23    accused people smuggler to face darwin court a...\n",
       "2003-02-24    94 dead in china earthquake academic considers...\n",
       "                                    ...                        \n",
       "2019-12-27    abc pic of the week best of 2019 alexei navaln...\n",
       "2019-12-28    acosia red elk demonstrating jingle dress danc...\n",
       "2019-12-29    alcohol addiction made me a drug dealer and se...\n",
       "2019-12-30    aerial firefighting over bundoora african swin...\n",
       "2019-12-31    abc reporter liv casben had to seek shelter at...\n",
       "Name: headline_text, Length: 6151, dtype: object"
      ]
     },
     "execution_count": 10,
     "metadata": {},
     "output_type": "execute_result"
    }
   ],
   "source": [
    "#combine all headlines on the same day\n",
    "abc = abc.groupby(['Date'])['headline_text'].apply(' '.join)"
   ]
  },
  {
   "cell_type": "code",
   "execution_count": 14,
   "metadata": {},
   "outputs": [
    {
     "data": {
      "text/plain": [
       "<bound method NDFrame.head of                                             headline_text  Label\n",
       "0          15 dead in rebel bombing raid philippines army      0\n",
       "1                              abattoir up for sale again      0\n",
       "2           academic upbeat about higher education review      0\n",
       "3           administrator to be appointed to land council      0\n",
       "4         aec to declare if nt to lose parliamentary seat      0\n",
       "...                                                   ...    ...\n",
       "981420  vision of flames approaching corryong in victoria      0\n",
       "981421  wa police and government backflip on drug amne...      0\n",
       "981422  we have fears for their safety: victorian premier      0\n",
       "981423                              when do the 20s start      0\n",
       "981424  yarraville shooting woman dead man critically ...      0\n",
       "\n",
       "[981425 rows x 2 columns]>"
      ]
     },
     "execution_count": 14,
     "metadata": {},
     "output_type": "execute_result"
    }
   ],
   "source": [
    "#attach labels to headlines\n",
    "df = pd.merge(abc, axjo[['Date','Label']], on='Date')\n",
    "del df['Date']\n",
    "df.head"
   ]
  },
  {
   "cell_type": "code",
   "execution_count": 18,
   "metadata": {},
   "outputs": [],
   "source": [
    "from sklearn.feature_extraction.text import CountVectorizer\n",
    "from sklearn.feature_extraction.text import TfidfTransformer\n",
    "from sklearn.model_selection import train_test_split\n",
    "\n",
    "#bag of words for headline\n",
    "count_vect = CountVectorizer()\n",
    "data_counts = count_vect.fit_transform(\n",
    "        df['headline_text'])\n",
    "\n",
    "tf_transformer = TfidfTransformer(use_idf=False).fit(data_counts)\n",
    "data_tf = tf_transformer.transform(data_counts)\n",
    "\n",
    "X_train, X_test, y_train, y_test = train_test_split(\n",
    "        data_tf,\n",
    "        df['Label'],\n",
    "        random_state = 42,\n",
    "        stratify = df['Label'])"
   ]
  },
  {
   "cell_type": "markdown",
   "metadata": {},
   "source": [
    "## Model Training"
   ]
  },
  {
   "cell_type": "code",
   "execution_count": 25,
   "metadata": {},
   "outputs": [
    {
     "data": {
      "text/plain": [
       "SGDClassifier(class_weight={0: 0.4, 1: 0.6}, eta0=10,\n",
       "              learning_rate='invscaling', loss='modified_huber', max_iter=2.0,\n",
       "              penalty='elasticnet')"
      ]
     },
     "execution_count": 25,
     "metadata": {},
     "output_type": "execute_result"
    }
   ],
   "source": [
    "from sklearn.linear_model import SGDClassifier\n",
    "\n",
    "sgd = SGDClassifier(loss=\"modified_huber\",\n",
    "                    penalty=\"elasticnet\",\n",
    "                    max_iter=np.ceil(10**6 / 738255),\n",
    "                    alpha=0.0001,\n",
    "                    class_weight={1: 0.6, 0: 0.4},\n",
    "                    eta0=10,\n",
    "                    learning_rate='invscaling')\n",
    "\n",
    "sgd.fit(X_train, y_train)"
   ]
  },
  {
   "cell_type": "markdown",
   "metadata": {},
   "source": [
    "## Model Evaluation"
   ]
  },
  {
   "cell_type": "code",
   "execution_count": 26,
   "metadata": {},
   "outputs": [],
   "source": [
    "def evaluate(y_test, pred):\n",
    "    print('---------------------------------------')\n",
    "    print(\"Accuracy: \", metrics.accuracy_score(y_test, pred))\n",
    "    \n",
    "    #confusion matrix\n",
    "    print(\"Confussion Matrix: \")\n",
    "    print(metrics.confusion_matrix(y_test, pred))\n",
    "    \n",
    "    #Precision, recall, f-measures\n",
    "    print(\"Precision, recall, f-measures: \")\n",
    "    print(metrics.classification_report(y_test, pred))\n",
    "    \n",
    "    #Balanced accuracy\n",
    "    print(\"Balanced accuracy: \", metrics.balanced_accuracy_score(y_test, pred))\n",
    "    print('---------------------------------------')"
   ]
  },
  {
   "cell_type": "code",
   "execution_count": 27,
   "metadata": {},
   "outputs": [
    {
     "name": "stdout",
     "output_type": "stream",
     "text": [
      "---------------------------------------\n",
      "Accuracy:  0.6516871334422902\n",
      "Confussion Matrix: \n",
      "[[138101  60538]\n",
      " [ 24923  21795]]\n",
      "Precision, recall, f-measures: \n",
      "              precision    recall  f1-score   support\n",
      "\n",
      "           0       0.85      0.70      0.76    198639\n",
      "           1       0.26      0.47      0.34     46718\n",
      "\n",
      "    accuracy                           0.65    245357\n",
      "   macro avg       0.56      0.58      0.55    245357\n",
      "weighted avg       0.74      0.65      0.68    245357\n",
      "\n",
      "Balanced accuracy:  0.5808793105135587\n",
      "---------------------------------------\n"
     ]
    }
   ],
   "source": [
    "from sklearn import metrics\n",
    "from sklearn.model_selection import RandomizedSearchCV\n",
    "\n",
    "sgd_predict = sgd.predict(X_test)\n",
    "evaluate(sgd_predict, y_test)"
   ]
  },
  {
   "cell_type": "markdown",
   "metadata": {},
   "source": [
    "## Hyper parameter tuning"
   ]
  },
  {
   "cell_type": "code",
   "execution_count": 23,
   "metadata": {},
   "outputs": [
    {
     "name": "stdout",
     "output_type": "stream",
     "text": [
      "Fitting 5 folds for each of 100 candidates, totalling 500 fits\n"
     ]
    },
    {
     "name": "stderr",
     "output_type": "stream",
     "text": [
      "[Parallel(n_jobs=-1)]: Using backend LokyBackend with 12 concurrent workers.\n",
      "[Parallel(n_jobs=-1)]: Done  26 tasks      | elapsed:    4.6s\n",
      "[Parallel(n_jobs=-1)]: Done 176 tasks      | elapsed:  2.1min\n",
      "[Parallel(n_jobs=-1)]: Done 426 tasks      | elapsed:  4.4min\n",
      "[Parallel(n_jobs=-1)]: Done 500 out of 500 | elapsed:  5.3min finished\n"
     ]
    },
    {
     "name": "stdout",
     "output_type": "stream",
     "text": [
      "Best Score:  0.6305537810553842\n",
      "Best Params:  {'penalty': 'elasticnet', 'loss': 'modified_huber', 'learning_rate': 'invscaling', 'eta0': 10, 'class_weight': {1: 0.6, 0: 0.4}, 'alpha': 0.0001}\n"
     ]
    },
    {
     "name": "stderr",
     "output_type": "stream",
     "text": [
      "C:\\Users\\CameronScully\\anaconda3\\lib\\site-packages\\sklearn\\linear_model\\_stochastic_gradient.py:570: ConvergenceWarning: Maximum number of iteration reached before convergence. Consider increasing max_iter to improve the fit.\n",
      "  warnings.warn(\"Maximum number of iteration reached before \"\n"
     ]
    }
   ],
   "source": [
    "\"\"\"\n",
    "loss = ['hinge', 'log', 'modified_huber', 'squared_hinge','perceptron']\n",
    "penalty = ['l1', 'l2', 'elasticnet'] \n",
    "alpha = [0.0001, 0.001, 0.01, 0.1, 1, 10, 100, 1000] \n",
    "learning_rate = ['constant', 'optimal', 'invscaling', 'adaptive'] \n",
    "class_weight = [{1:0.5, 0:0.5}, {1:0.4, 0:0.6}, {1:0.6, 0:0.4}, {1:0.7, 0:0.3}]\n",
    "eta0 = [1, 10, 100] \n",
    "\n",
    "param_distributions = dict(loss=loss,\n",
    "                           penalty=penalty,\n",
    "                           alpha=alpha, \n",
    "                           learning_rate=learning_rate, \n",
    "                           class_weight=class_weight, \n",
    "                           eta0=eta0) \n",
    "\n",
    "random = RandomizedSearchCV(estimator=sgd,\n",
    "                            param_distributions=param_distributions,\n",
    "                            scoring='roc_auc',\n",
    "                            verbose=1, n_jobs=-1, \n",
    "                            n_iter=100) \n",
    "\n",
    "random_result = random.fit(X_train, y_train)\n",
    "\n",
    "print('Best Score: ', random_result.best_score_) \n",
    "print('Best Params: ', random_result.best_params_)\n",
    "\"\"\""
   ]
  },
  {
   "cell_type": "code",
   "execution_count": null,
   "metadata": {},
   "outputs": [],
   "source": []
  }
 ],
 "metadata": {
  "kernelspec": {
   "display_name": "Python 3",
   "language": "python",
   "name": "python3"
  },
  "language_info": {
   "codemirror_mode": {
    "name": "ipython",
    "version": 3
   },
   "file_extension": ".py",
   "mimetype": "text/x-python",
   "name": "python",
   "nbconvert_exporter": "python",
   "pygments_lexer": "ipython3",
   "version": "3.8.3"
  }
 },
 "nbformat": 4,
 "nbformat_minor": 4
}
